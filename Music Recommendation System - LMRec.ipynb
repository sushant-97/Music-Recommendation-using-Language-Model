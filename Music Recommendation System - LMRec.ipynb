{
 "cells": [
  {
   "cell_type": "code",
   "execution_count": 1,
   "metadata": {
    "colab": {
     "base_uri": "https://localhost:8080/",
     "height": 0
    },
    "id": "W5ZhGv6TTDFD",
    "outputId": "eab6da38-7649-42e1-fd26-cba589300a03"
   },
   "outputs": [
    {
     "name": "stdout",
     "output_type": "stream",
     "text": [
      "Mounted at /content/drive\n"
     ]
    }
   ],
   "source": [
    "from google.colab import drive\n",
    "drive.mount('/content/drive')"
   ]
  },
  {
   "cell_type": "code",
   "execution_count": 11,
   "metadata": {
    "id": "eDvphJ81TIRR"
   },
   "outputs": [],
   "source": [
    "import pandas as pd\n",
    "from collections import Counter\n",
    "import seaborn as sns\n",
    "import warnings\n",
    "warnings.filterwarnings('ignore')"
   ]
  },
  {
   "cell_type": "code",
   "execution_count": 4,
   "metadata": {
    "colab": {
     "base_uri": "https://localhost:8080/",
     "height": 0
    },
    "id": "SYF2BcPcTIOh",
    "outputId": "3af4939e-5550-4c08-fe48-921038413174"
   },
   "outputs": [
    {
     "name": "stderr",
     "output_type": "stream",
     "text": [
      "/usr/local/lib/python3.7/dist-packages/IPython/core/interactiveshell.py:3326: FutureWarning: The warn_bad_lines argument has been deprecated and will be removed in a future version.\n",
      "\n",
      "\n",
      "  exec(code_obj, self.user_global_ns, self.user_ns)\n",
      "/usr/local/lib/python3.7/dist-packages/IPython/core/interactiveshell.py:3326: FutureWarning: The error_bad_lines argument has been deprecated and will be removed in a future version.\n",
      "\n",
      "\n",
      "  exec(code_obj, self.user_global_ns, self.user_ns)\n"
     ]
    }
   ],
   "source": [
    "df_original = pd.read_csv('/content/drive/MyDrive/NLP/spotify_dataset.csv',error_bad_lines=False,warn_bad_lines=False)"
   ]
  },
  {
   "cell_type": "code",
   "execution_count": 6,
   "metadata": {
    "id": "kI2rf7t1TILa"
   },
   "outputs": [],
   "source": [
    "df_original.rename(index=str, columns={\n",
    "    ' \"artistname\"': \"artist\",\n",
    "    ' \"trackname\"': \"trackname\",\n",
    "    ' \"playlistname\"': \"playlistname\"\n",
    "},inplace=True)"
   ]
  },
  {
   "cell_type": "code",
   "execution_count": 7,
   "metadata": {
    "colab": {
     "base_uri": "https://localhost:8080/",
     "height": 0
    },
    "id": "sCdUPxUPTIGF",
    "outputId": "8c5b6c52-364e-450e-ef1b-155cf1e28f89"
   },
   "outputs": [
    {
     "data": {
      "text/plain": [
       "(12891680, 4)"
      ]
     },
     "execution_count": 7,
     "metadata": {},
     "output_type": "execute_result"
    }
   ],
   "source": [
    "df_original.shape"
   ]
  },
  {
   "cell_type": "code",
   "execution_count": 8,
   "metadata": {
    "colab": {
     "base_uri": "https://localhost:8080/",
     "height": 0
    },
    "id": "0k0aD4OnTvyd",
    "outputId": "c7578eb8-503d-4bd3-bd1a-988c9582e44e"
   },
   "outputs": [
    {
     "data": {
      "text/plain": [
       "Index(['user_id', 'artist', 'trackname', 'playlistname'], dtype='object')"
      ]
     },
     "execution_count": 8,
     "metadata": {},
     "output_type": "execute_result"
    }
   ],
   "source": [
    "df_original.columns"
   ]
  },
  {
   "cell_type": "code",
   "execution_count": 9,
   "metadata": {
    "colab": {
     "base_uri": "https://localhost:8080/",
     "height": 0
    },
    "id": "1nYWft3QTvvt",
    "outputId": "86fb238b-a117-44d4-b624-7502a2950e4b"
   },
   "outputs": [
    {
     "data": {
      "text/plain": [
       "user_id           15918\n",
       "artist           289821\n",
       "trackname       2032044\n",
       "playlistname     157504\n",
       "dtype: int64"
      ]
     },
     "execution_count": 9,
     "metadata": {},
     "output_type": "execute_result"
    }
   ],
   "source": [
    "df_original.nunique()"
   ]
  },
  {
   "cell_type": "code",
   "execution_count": 12,
   "metadata": {
    "colab": {
     "base_uri": "https://localhost:8080/",
     "height": 0
    },
    "id": "66h7oHJVT2ag",
    "outputId": "9f59b5bf-5fd7-4d83-ede6-52972d24a59b"
   },
   "outputs": [
    {
     "data": {
      "text/plain": [
       "[('Daft Punk', 36086),\n",
       " ('Coldplay', 35485),\n",
       " (nan, 33568),\n",
       " ('Radiohead', 31429),\n",
       " ('The Rolling Stones', 30832),\n",
       " ('Kanye West', 29111),\n",
       " ('JAY Z', 28928),\n",
       " ('Eminem', 28894),\n",
       " ('Queen', 28079),\n",
       " ('David Bowie', 27802)]"
      ]
     },
     "execution_count": 12,
     "metadata": {},
     "output_type": "execute_result"
    }
   ],
   "source": [
    "Counter(df_original.artist).most_common(10)"
   ]
  },
  {
   "cell_type": "code",
   "execution_count": 13,
   "metadata": {
    "colab": {
     "base_uri": "https://localhost:8080/",
     "height": 0
    },
    "id": "YFgOJMtkUHo3",
    "outputId": "2340bbc8-ce1e-4866-f102-9f8e2596e688"
   },
   "outputs": [
    {
     "data": {
      "text/plain": [
       "user_id             0\n",
       "artist          33568\n",
       "trackname          85\n",
       "playlistname     1246\n",
       "dtype: int64"
      ]
     },
     "execution_count": 13,
     "metadata": {},
     "output_type": "execute_result"
    }
   ],
   "source": [
    "df_original.isna().sum()"
   ]
  },
  {
   "cell_type": "code",
   "execution_count": 14,
   "metadata": {
    "colab": {
     "base_uri": "https://localhost:8080/",
     "height": 677
    },
    "id": "wQGwneF-UHjY",
    "outputId": "cb2adcea-39fa-42c0-cd91-d0a84f293c41"
   },
   "outputs": [
    {
     "data": {
      "text/html": [
       "\n",
       "  <div id=\"df-b5c928b3-a5e0-445e-83dc-3140333250e5\">\n",
       "    <div class=\"colab-df-container\">\n",
       "      <div>\n",
       "<style scoped>\n",
       "    .dataframe tbody tr th:only-of-type {\n",
       "        vertical-align: middle;\n",
       "    }\n",
       "\n",
       "    .dataframe tbody tr th {\n",
       "        vertical-align: top;\n",
       "    }\n",
       "\n",
       "    .dataframe thead th {\n",
       "        text-align: right;\n",
       "    }\n",
       "</style>\n",
       "<table border=\"1\" class=\"dataframe\">\n",
       "  <thead>\n",
       "    <tr style=\"text-align: right;\">\n",
       "      <th></th>\n",
       "      <th>user_id</th>\n",
       "      <th>artist</th>\n",
       "      <th>trackname</th>\n",
       "      <th>playlistname</th>\n",
       "    </tr>\n",
       "  </thead>\n",
       "  <tbody>\n",
       "    <tr>\n",
       "      <th>769</th>\n",
       "      <td>07f0fc3be95dcd878966b1f9572ff670</td>\n",
       "      <td>NaN</td>\n",
       "      <td>07 - echoes</td>\n",
       "      <td>Starred</td>\n",
       "    </tr>\n",
       "    <tr>\n",
       "      <th>2606</th>\n",
       "      <td>c5cdf06b5f1836006ef2a2fe4f5ff103</td>\n",
       "      <td>NaN</td>\n",
       "      <td>Im Not Okay (I Promise) ~ My Chemical Romance</td>\n",
       "      <td>ngt emo eller</td>\n",
       "    </tr>\n",
       "    <tr>\n",
       "      <th>2607</th>\n",
       "      <td>c5cdf06b5f1836006ef2a2fe4f5ff103</td>\n",
       "      <td>NaN</td>\n",
       "      <td>Just The Girl - The Click Five Cover</td>\n",
       "      <td>ngt emo eller</td>\n",
       "    </tr>\n",
       "    <tr>\n",
       "      <th>2608</th>\n",
       "      <td>c5cdf06b5f1836006ef2a2fe4f5ff103</td>\n",
       "      <td>NaN</td>\n",
       "      <td>Low - Sleeping With Sirens Cover</td>\n",
       "      <td>ngt emo eller</td>\n",
       "    </tr>\n",
       "    <tr>\n",
       "      <th>2609</th>\n",
       "      <td>c5cdf06b5f1836006ef2a2fe4f5ff103</td>\n",
       "      <td>NaN</td>\n",
       "      <td>Pierce The Veil - -Just The Way You Are- Lyric...</td>\n",
       "      <td>ngt emo eller</td>\n",
       "    </tr>\n",
       "    <tr>\n",
       "      <th>2610</th>\n",
       "      <td>c5cdf06b5f1836006ef2a2fe4f5ff103</td>\n",
       "      <td>NaN</td>\n",
       "      <td>Pierce The Veil - Disasterology ( Lyrics )</td>\n",
       "      <td>ngt emo eller</td>\n",
       "    </tr>\n",
       "    <tr>\n",
       "      <th>2612</th>\n",
       "      <td>c5cdf06b5f1836006ef2a2fe4f5ff103</td>\n",
       "      <td>NaN</td>\n",
       "      <td>live and let die- paul mccartney</td>\n",
       "      <td>ngt emo eller</td>\n",
       "    </tr>\n",
       "    <tr>\n",
       "      <th>2613</th>\n",
       "      <td>c5cdf06b5f1836006ef2a2fe4f5ff103</td>\n",
       "      <td>NaN</td>\n",
       "      <td>patty walters - My Chemical Romance 'TEENAGERS...</td>\n",
       "      <td>ngt emo eller</td>\n",
       "    </tr>\n",
       "    <tr>\n",
       "      <th>16360</th>\n",
       "      <td>f4052aabcb90ac2bc768b14946255b45</td>\n",
       "      <td>NaN</td>\n",
       "      <td>Deluge 2.mp3</td>\n",
       "      <td>mcfinal</td>\n",
       "    </tr>\n",
       "    <tr>\n",
       "      <th>16361</th>\n",
       "      <td>f4052aabcb90ac2bc768b14946255b45</td>\n",
       "      <td>NaN</td>\n",
       "      <td>Golden Brown 2.mp3</td>\n",
       "      <td>mcfinal</td>\n",
       "    </tr>\n",
       "    <tr>\n",
       "      <th>16362</th>\n",
       "      <td>f4052aabcb90ac2bc768b14946255b45</td>\n",
       "      <td>NaN</td>\n",
       "      <td>Green Chimney's 2.mp3</td>\n",
       "      <td>mcfinal</td>\n",
       "    </tr>\n",
       "    <tr>\n",
       "      <th>16363</th>\n",
       "      <td>f4052aabcb90ac2bc768b14946255b45</td>\n",
       "      <td>NaN</td>\n",
       "      <td>Hot Water Valley 2.mp3</td>\n",
       "      <td>mcfinal</td>\n",
       "    </tr>\n",
       "    <tr>\n",
       "      <th>16364</th>\n",
       "      <td>f4052aabcb90ac2bc768b14946255b45</td>\n",
       "      <td>NaN</td>\n",
       "      <td>Indra 2.mp3</td>\n",
       "      <td>mcfinal</td>\n",
       "    </tr>\n",
       "    <tr>\n",
       "      <th>16365</th>\n",
       "      <td>f4052aabcb90ac2bc768b14946255b45</td>\n",
       "      <td>NaN</td>\n",
       "      <td>Lonnie's Lament 2.mp3</td>\n",
       "      <td>mcfinal</td>\n",
       "    </tr>\n",
       "    <tr>\n",
       "      <th>16366</th>\n",
       "      <td>f4052aabcb90ac2bc768b14946255b45</td>\n",
       "      <td>NaN</td>\n",
       "      <td>Neolithic Chant 2.mp3</td>\n",
       "      <td>mcfinal</td>\n",
       "    </tr>\n",
       "    <tr>\n",
       "      <th>16367</th>\n",
       "      <td>f4052aabcb90ac2bc768b14946255b45</td>\n",
       "      <td>NaN</td>\n",
       "      <td>Niama 2.mp3</td>\n",
       "      <td>mcfinal</td>\n",
       "    </tr>\n",
       "    <tr>\n",
       "      <th>16368</th>\n",
       "      <td>f4052aabcb90ac2bc768b14946255b45</td>\n",
       "      <td>NaN</td>\n",
       "      <td>Teo 2.mp3</td>\n",
       "      <td>mcfinal</td>\n",
       "    </tr>\n",
       "    <tr>\n",
       "      <th>17771</th>\n",
       "      <td>50346e4190d1707ebc6b39a95f86927a</td>\n",
       "      <td>NaN</td>\n",
       "      <td>04-Charlie Rouse-Bossa Nova Bacchanal-Samba de...</td>\n",
       "      <td>C'est beau ça</td>\n",
       "    </tr>\n",
       "    <tr>\n",
       "      <th>24564</th>\n",
       "      <td>cdccfd048f6a2d655f6b2dfdfce95f04</td>\n",
       "      <td>NaN</td>\n",
       "      <td>Wild World - Skins</td>\n",
       "      <td>Starred</td>\n",
       "    </tr>\n",
       "    <tr>\n",
       "      <th>24565</th>\n",
       "      <td>cdccfd048f6a2d655f6b2dfdfce95f04</td>\n",
       "      <td>NaN</td>\n",
       "      <td>Yanni - The Storm 2004 Live Video HD</td>\n",
       "      <td>Starred</td>\n",
       "    </tr>\n",
       "  </tbody>\n",
       "</table>\n",
       "</div>\n",
       "      <button class=\"colab-df-convert\" onclick=\"convertToInteractive('df-b5c928b3-a5e0-445e-83dc-3140333250e5')\"\n",
       "              title=\"Convert this dataframe to an interactive table.\"\n",
       "              style=\"display:none;\">\n",
       "        \n",
       "  <svg xmlns=\"http://www.w3.org/2000/svg\" height=\"24px\"viewBox=\"0 0 24 24\"\n",
       "       width=\"24px\">\n",
       "    <path d=\"M0 0h24v24H0V0z\" fill=\"none\"/>\n",
       "    <path d=\"M18.56 5.44l.94 2.06.94-2.06 2.06-.94-2.06-.94-.94-2.06-.94 2.06-2.06.94zm-11 1L8.5 8.5l.94-2.06 2.06-.94-2.06-.94L8.5 2.5l-.94 2.06-2.06.94zm10 10l.94 2.06.94-2.06 2.06-.94-2.06-.94-.94-2.06-.94 2.06-2.06.94z\"/><path d=\"M17.41 7.96l-1.37-1.37c-.4-.4-.92-.59-1.43-.59-.52 0-1.04.2-1.43.59L10.3 9.45l-7.72 7.72c-.78.78-.78 2.05 0 2.83L4 21.41c.39.39.9.59 1.41.59.51 0 1.02-.2 1.41-.59l7.78-7.78 2.81-2.81c.8-.78.8-2.07 0-2.86zM5.41 20L4 18.59l7.72-7.72 1.47 1.35L5.41 20z\"/>\n",
       "  </svg>\n",
       "      </button>\n",
       "      \n",
       "  <style>\n",
       "    .colab-df-container {\n",
       "      display:flex;\n",
       "      flex-wrap:wrap;\n",
       "      gap: 12px;\n",
       "    }\n",
       "\n",
       "    .colab-df-convert {\n",
       "      background-color: #E8F0FE;\n",
       "      border: none;\n",
       "      border-radius: 50%;\n",
       "      cursor: pointer;\n",
       "      display: none;\n",
       "      fill: #1967D2;\n",
       "      height: 32px;\n",
       "      padding: 0 0 0 0;\n",
       "      width: 32px;\n",
       "    }\n",
       "\n",
       "    .colab-df-convert:hover {\n",
       "      background-color: #E2EBFA;\n",
       "      box-shadow: 0px 1px 2px rgba(60, 64, 67, 0.3), 0px 1px 3px 1px rgba(60, 64, 67, 0.15);\n",
       "      fill: #174EA6;\n",
       "    }\n",
       "\n",
       "    [theme=dark] .colab-df-convert {\n",
       "      background-color: #3B4455;\n",
       "      fill: #D2E3FC;\n",
       "    }\n",
       "\n",
       "    [theme=dark] .colab-df-convert:hover {\n",
       "      background-color: #434B5C;\n",
       "      box-shadow: 0px 1px 3px 1px rgba(0, 0, 0, 0.15);\n",
       "      filter: drop-shadow(0px 1px 2px rgba(0, 0, 0, 0.3));\n",
       "      fill: #FFFFFF;\n",
       "    }\n",
       "  </style>\n",
       "\n",
       "      <script>\n",
       "        const buttonEl =\n",
       "          document.querySelector('#df-b5c928b3-a5e0-445e-83dc-3140333250e5 button.colab-df-convert');\n",
       "        buttonEl.style.display =\n",
       "          google.colab.kernel.accessAllowed ? 'block' : 'none';\n",
       "\n",
       "        async function convertToInteractive(key) {\n",
       "          const element = document.querySelector('#df-b5c928b3-a5e0-445e-83dc-3140333250e5');\n",
       "          const dataTable =\n",
       "            await google.colab.kernel.invokeFunction('convertToInteractive',\n",
       "                                                     [key], {});\n",
       "          if (!dataTable) return;\n",
       "\n",
       "          const docLinkHtml = 'Like what you see? Visit the ' +\n",
       "            '<a target=\"_blank\" href=https://colab.research.google.com/notebooks/data_table.ipynb>data table notebook</a>'\n",
       "            + ' to learn more about interactive tables.';\n",
       "          element.innerHTML = '';\n",
       "          dataTable['output_type'] = 'display_data';\n",
       "          await google.colab.output.renderOutput(dataTable, element);\n",
       "          const docLink = document.createElement('div');\n",
       "          docLink.innerHTML = docLinkHtml;\n",
       "          element.appendChild(docLink);\n",
       "        }\n",
       "      </script>\n",
       "    </div>\n",
       "  </div>\n",
       "  "
      ],
      "text/plain": [
       "                                user_id artist  \\\n",
       "769    07f0fc3be95dcd878966b1f9572ff670    NaN   \n",
       "2606   c5cdf06b5f1836006ef2a2fe4f5ff103    NaN   \n",
       "2607   c5cdf06b5f1836006ef2a2fe4f5ff103    NaN   \n",
       "2608   c5cdf06b5f1836006ef2a2fe4f5ff103    NaN   \n",
       "2609   c5cdf06b5f1836006ef2a2fe4f5ff103    NaN   \n",
       "2610   c5cdf06b5f1836006ef2a2fe4f5ff103    NaN   \n",
       "2612   c5cdf06b5f1836006ef2a2fe4f5ff103    NaN   \n",
       "2613   c5cdf06b5f1836006ef2a2fe4f5ff103    NaN   \n",
       "16360  f4052aabcb90ac2bc768b14946255b45    NaN   \n",
       "16361  f4052aabcb90ac2bc768b14946255b45    NaN   \n",
       "16362  f4052aabcb90ac2bc768b14946255b45    NaN   \n",
       "16363  f4052aabcb90ac2bc768b14946255b45    NaN   \n",
       "16364  f4052aabcb90ac2bc768b14946255b45    NaN   \n",
       "16365  f4052aabcb90ac2bc768b14946255b45    NaN   \n",
       "16366  f4052aabcb90ac2bc768b14946255b45    NaN   \n",
       "16367  f4052aabcb90ac2bc768b14946255b45    NaN   \n",
       "16368  f4052aabcb90ac2bc768b14946255b45    NaN   \n",
       "17771  50346e4190d1707ebc6b39a95f86927a    NaN   \n",
       "24564  cdccfd048f6a2d655f6b2dfdfce95f04    NaN   \n",
       "24565  cdccfd048f6a2d655f6b2dfdfce95f04    NaN   \n",
       "\n",
       "                                               trackname   playlistname  \n",
       "769                                          07 - echoes        Starred  \n",
       "2606       Im Not Okay (I Promise) ~ My Chemical Romance  ngt emo eller  \n",
       "2607                Just The Girl - The Click Five Cover  ngt emo eller  \n",
       "2608                    Low - Sleeping With Sirens Cover  ngt emo eller  \n",
       "2609   Pierce The Veil - -Just The Way You Are- Lyric...  ngt emo eller  \n",
       "2610          Pierce The Veil - Disasterology ( Lyrics )  ngt emo eller  \n",
       "2612                    live and let die- paul mccartney  ngt emo eller  \n",
       "2613   patty walters - My Chemical Romance 'TEENAGERS...  ngt emo eller  \n",
       "16360                                       Deluge 2.mp3        mcfinal  \n",
       "16361                                 Golden Brown 2.mp3        mcfinal  \n",
       "16362                              Green Chimney's 2.mp3        mcfinal  \n",
       "16363                             Hot Water Valley 2.mp3        mcfinal  \n",
       "16364                                        Indra 2.mp3        mcfinal  \n",
       "16365                              Lonnie's Lament 2.mp3        mcfinal  \n",
       "16366                              Neolithic Chant 2.mp3        mcfinal  \n",
       "16367                                        Niama 2.mp3        mcfinal  \n",
       "16368                                          Teo 2.mp3        mcfinal  \n",
       "17771  04-Charlie Rouse-Bossa Nova Bacchanal-Samba de...  C'est beau ça  \n",
       "24564                                 Wild World - Skins        Starred  \n",
       "24565               Yanni - The Storm 2004 Live Video HD        Starred  "
      ]
     },
     "execution_count": 14,
     "metadata": {},
     "output_type": "execute_result"
    }
   ],
   "source": [
    "df_original[df_original.artist.isna()].head(20)"
   ]
  },
  {
   "cell_type": "code",
   "execution_count": 15,
   "metadata": {
    "colab": {
     "base_uri": "https://localhost:8080/",
     "height": 468
    },
    "id": "r6Z5UGF_UHgy",
    "outputId": "261bce8d-b487-44a8-941a-e896ff63a679"
   },
   "outputs": [
    {
     "data": {
      "text/html": [
       "\n",
       "  <div id=\"df-ec31a194-c269-48fd-8b62-847b10998095\">\n",
       "    <div class=\"colab-df-container\">\n",
       "      <div>\n",
       "<style scoped>\n",
       "    .dataframe tbody tr th:only-of-type {\n",
       "        vertical-align: middle;\n",
       "    }\n",
       "\n",
       "    .dataframe tbody tr th {\n",
       "        vertical-align: top;\n",
       "    }\n",
       "\n",
       "    .dataframe thead th {\n",
       "        text-align: right;\n",
       "    }\n",
       "</style>\n",
       "<table border=\"1\" class=\"dataframe\">\n",
       "  <thead>\n",
       "    <tr style=\"text-align: right;\">\n",
       "      <th></th>\n",
       "      <th>user_id</th>\n",
       "      <th>artist</th>\n",
       "      <th>trackname</th>\n",
       "      <th>playlistname</th>\n",
       "    </tr>\n",
       "  </thead>\n",
       "  <tbody>\n",
       "    <tr>\n",
       "      <th>0</th>\n",
       "      <td>9cc0cfd4d7d7885102480dd99e7a90d6</td>\n",
       "      <td>Elvis Costello</td>\n",
       "      <td>(The Angels Wanna Wear My) Red Shoes</td>\n",
       "      <td>HARD ROCK 2010</td>\n",
       "    </tr>\n",
       "    <tr>\n",
       "      <th>1</th>\n",
       "      <td>9cc0cfd4d7d7885102480dd99e7a90d6</td>\n",
       "      <td>Elvis Costello &amp; The Attractions</td>\n",
       "      <td>(What's So Funny 'Bout) Peace, Love And Unders...</td>\n",
       "      <td>HARD ROCK 2010</td>\n",
       "    </tr>\n",
       "    <tr>\n",
       "      <th>2</th>\n",
       "      <td>9cc0cfd4d7d7885102480dd99e7a90d6</td>\n",
       "      <td>Tiffany Page</td>\n",
       "      <td>7 Years Too Late</td>\n",
       "      <td>HARD ROCK 2010</td>\n",
       "    </tr>\n",
       "    <tr>\n",
       "      <th>3</th>\n",
       "      <td>9cc0cfd4d7d7885102480dd99e7a90d6</td>\n",
       "      <td>Elvis Costello &amp; The Attractions</td>\n",
       "      <td>Accidents Will Happen</td>\n",
       "      <td>HARD ROCK 2010</td>\n",
       "    </tr>\n",
       "    <tr>\n",
       "      <th>4</th>\n",
       "      <td>9cc0cfd4d7d7885102480dd99e7a90d6</td>\n",
       "      <td>Elvis Costello</td>\n",
       "      <td>Alison</td>\n",
       "      <td>HARD ROCK 2010</td>\n",
       "    </tr>\n",
       "    <tr>\n",
       "      <th>...</th>\n",
       "      <td>...</td>\n",
       "      <td>...</td>\n",
       "      <td>...</td>\n",
       "      <td>...</td>\n",
       "    </tr>\n",
       "    <tr>\n",
       "      <th>12891675</th>\n",
       "      <td>2302bf9c64dc63d88a750215ed187f2c</td>\n",
       "      <td>Mötley Crüe</td>\n",
       "      <td>Wild Side</td>\n",
       "      <td>iPhone</td>\n",
       "    </tr>\n",
       "    <tr>\n",
       "      <th>12891676</th>\n",
       "      <td>2302bf9c64dc63d88a750215ed187f2c</td>\n",
       "      <td>John Lennon</td>\n",
       "      <td>Woman</td>\n",
       "      <td>iPhone</td>\n",
       "    </tr>\n",
       "    <tr>\n",
       "      <th>12891677</th>\n",
       "      <td>2302bf9c64dc63d88a750215ed187f2c</td>\n",
       "      <td>Tom Petty</td>\n",
       "      <td>You Don't Know How It Feels</td>\n",
       "      <td>iPhone</td>\n",
       "    </tr>\n",
       "    <tr>\n",
       "      <th>12891678</th>\n",
       "      <td>2302bf9c64dc63d88a750215ed187f2c</td>\n",
       "      <td>Tom Petty</td>\n",
       "      <td>You Wreck Me</td>\n",
       "      <td>iPhone</td>\n",
       "    </tr>\n",
       "    <tr>\n",
       "      <th>12891679</th>\n",
       "      <td>2302bf9c64dc63d88a750215ed187f2c</td>\n",
       "      <td>Skid Row</td>\n",
       "      <td>Youth Gone Wild</td>\n",
       "      <td>iPhone</td>\n",
       "    </tr>\n",
       "  </tbody>\n",
       "</table>\n",
       "<p>12856838 rows × 4 columns</p>\n",
       "</div>\n",
       "      <button class=\"colab-df-convert\" onclick=\"convertToInteractive('df-ec31a194-c269-48fd-8b62-847b10998095')\"\n",
       "              title=\"Convert this dataframe to an interactive table.\"\n",
       "              style=\"display:none;\">\n",
       "        \n",
       "  <svg xmlns=\"http://www.w3.org/2000/svg\" height=\"24px\"viewBox=\"0 0 24 24\"\n",
       "       width=\"24px\">\n",
       "    <path d=\"M0 0h24v24H0V0z\" fill=\"none\"/>\n",
       "    <path d=\"M18.56 5.44l.94 2.06.94-2.06 2.06-.94-2.06-.94-.94-2.06-.94 2.06-2.06.94zm-11 1L8.5 8.5l.94-2.06 2.06-.94-2.06-.94L8.5 2.5l-.94 2.06-2.06.94zm10 10l.94 2.06.94-2.06 2.06-.94-2.06-.94-.94-2.06-.94 2.06-2.06.94z\"/><path d=\"M17.41 7.96l-1.37-1.37c-.4-.4-.92-.59-1.43-.59-.52 0-1.04.2-1.43.59L10.3 9.45l-7.72 7.72c-.78.78-.78 2.05 0 2.83L4 21.41c.39.39.9.59 1.41.59.51 0 1.02-.2 1.41-.59l7.78-7.78 2.81-2.81c.8-.78.8-2.07 0-2.86zM5.41 20L4 18.59l7.72-7.72 1.47 1.35L5.41 20z\"/>\n",
       "  </svg>\n",
       "      </button>\n",
       "      \n",
       "  <style>\n",
       "    .colab-df-container {\n",
       "      display:flex;\n",
       "      flex-wrap:wrap;\n",
       "      gap: 12px;\n",
       "    }\n",
       "\n",
       "    .colab-df-convert {\n",
       "      background-color: #E8F0FE;\n",
       "      border: none;\n",
       "      border-radius: 50%;\n",
       "      cursor: pointer;\n",
       "      display: none;\n",
       "      fill: #1967D2;\n",
       "      height: 32px;\n",
       "      padding: 0 0 0 0;\n",
       "      width: 32px;\n",
       "    }\n",
       "\n",
       "    .colab-df-convert:hover {\n",
       "      background-color: #E2EBFA;\n",
       "      box-shadow: 0px 1px 2px rgba(60, 64, 67, 0.3), 0px 1px 3px 1px rgba(60, 64, 67, 0.15);\n",
       "      fill: #174EA6;\n",
       "    }\n",
       "\n",
       "    [theme=dark] .colab-df-convert {\n",
       "      background-color: #3B4455;\n",
       "      fill: #D2E3FC;\n",
       "    }\n",
       "\n",
       "    [theme=dark] .colab-df-convert:hover {\n",
       "      background-color: #434B5C;\n",
       "      box-shadow: 0px 1px 3px 1px rgba(0, 0, 0, 0.15);\n",
       "      filter: drop-shadow(0px 1px 2px rgba(0, 0, 0, 0.3));\n",
       "      fill: #FFFFFF;\n",
       "    }\n",
       "  </style>\n",
       "\n",
       "      <script>\n",
       "        const buttonEl =\n",
       "          document.querySelector('#df-ec31a194-c269-48fd-8b62-847b10998095 button.colab-df-convert');\n",
       "        buttonEl.style.display =\n",
       "          google.colab.kernel.accessAllowed ? 'block' : 'none';\n",
       "\n",
       "        async function convertToInteractive(key) {\n",
       "          const element = document.querySelector('#df-ec31a194-c269-48fd-8b62-847b10998095');\n",
       "          const dataTable =\n",
       "            await google.colab.kernel.invokeFunction('convertToInteractive',\n",
       "                                                     [key], {});\n",
       "          if (!dataTable) return;\n",
       "\n",
       "          const docLinkHtml = 'Like what you see? Visit the ' +\n",
       "            '<a target=\"_blank\" href=https://colab.research.google.com/notebooks/data_table.ipynb>data table notebook</a>'\n",
       "            + ' to learn more about interactive tables.';\n",
       "          element.innerHTML = '';\n",
       "          dataTable['output_type'] = 'display_data';\n",
       "          await google.colab.output.renderOutput(dataTable, element);\n",
       "          const docLink = document.createElement('div');\n",
       "          docLink.innerHTML = docLinkHtml;\n",
       "          element.appendChild(docLink);\n",
       "        }\n",
       "      </script>\n",
       "    </div>\n",
       "  </div>\n",
       "  "
      ],
      "text/plain": [
       "                                   user_id                            artist  \\\n",
       "0         9cc0cfd4d7d7885102480dd99e7a90d6                    Elvis Costello   \n",
       "1         9cc0cfd4d7d7885102480dd99e7a90d6  Elvis Costello & The Attractions   \n",
       "2         9cc0cfd4d7d7885102480dd99e7a90d6                      Tiffany Page   \n",
       "3         9cc0cfd4d7d7885102480dd99e7a90d6  Elvis Costello & The Attractions   \n",
       "4         9cc0cfd4d7d7885102480dd99e7a90d6                    Elvis Costello   \n",
       "...                                    ...                               ...   \n",
       "12891675  2302bf9c64dc63d88a750215ed187f2c                       Mötley Crüe   \n",
       "12891676  2302bf9c64dc63d88a750215ed187f2c                       John Lennon   \n",
       "12891677  2302bf9c64dc63d88a750215ed187f2c                         Tom Petty   \n",
       "12891678  2302bf9c64dc63d88a750215ed187f2c                         Tom Petty   \n",
       "12891679  2302bf9c64dc63d88a750215ed187f2c                          Skid Row   \n",
       "\n",
       "                                                  trackname    playlistname  \n",
       "0                      (The Angels Wanna Wear My) Red Shoes  HARD ROCK 2010  \n",
       "1         (What's So Funny 'Bout) Peace, Love And Unders...  HARD ROCK 2010  \n",
       "2                                          7 Years Too Late  HARD ROCK 2010  \n",
       "3                                     Accidents Will Happen  HARD ROCK 2010  \n",
       "4                                                    Alison  HARD ROCK 2010  \n",
       "...                                                     ...             ...  \n",
       "12891675                                          Wild Side          iPhone  \n",
       "12891676                                              Woman          iPhone  \n",
       "12891677                        You Don't Know How It Feels          iPhone  \n",
       "12891678                                       You Wreck Me          iPhone  \n",
       "12891679                                    Youth Gone Wild          iPhone  \n",
       "\n",
       "[12856838 rows x 4 columns]"
      ]
     },
     "execution_count": 15,
     "metadata": {},
     "output_type": "execute_result"
    }
   ],
   "source": [
    "df_original.dropna()"
   ]
  },
  {
   "cell_type": "code",
   "execution_count": 17,
   "metadata": {
    "colab": {
     "base_uri": "https://localhost:8080/",
     "height": 0
    },
    "id": "bLIaKAaBUgUW",
    "outputId": "83b42ab6-6d3a-4cbb-c049-e195378b46ad"
   },
   "outputs": [
    {
     "data": {
      "text/plain": [
       "(12891680, 4)"
      ]
     },
     "execution_count": 17,
     "metadata": {},
     "output_type": "execute_result"
    }
   ],
   "source": [
    "df_original.shape"
   ]
  },
  {
   "cell_type": "code",
   "execution_count": 18,
   "metadata": {
    "colab": {
     "base_uri": "https://localhost:8080/",
     "height": 298
    },
    "id": "i34RBrlFUjzZ",
    "outputId": "4a1b30a4-6dd8-4467-8f9d-e4443e86c238"
   },
   "outputs": [
    {
     "data": {
      "text/plain": [
       "<matplotlib.axes._subplots.AxesSubplot at 0x7f62d8511950>"
      ]
     },
     "execution_count": 18,
     "metadata": {},
     "output_type": "execute_result"
    },
    {
     "data": {
      "image/png": "[encoded data removed]",
      "text/plain": [
       "<Figure size 432x288 with 1 Axes>"
      ]
     },
     "metadata": {
      "needs_background": "light"
     },
     "output_type": "display_data"
    }
   ],
   "source": [
    "# Finding unique playlists\n",
    "df_original['user_playlistname'] = df_original.user_id + '--' + df_original.playlistname\n",
    "sns.distplot(df_original.user_playlistname.value_counts())"
   ]
  },
  {
   "cell_type": "code",
   "execution_count": 26,
   "metadata": {
    "colab": {
     "base_uri": "https://localhost:8080/",
     "height": 298
    },
    "id": "oq0vCkLrVcsv",
    "outputId": "baa94260-c4bf-4a62-83e3-0f668d64449b"
   },
   "outputs": [
    {
     "data": {
      "text/plain": [
       "<matplotlib.axes._subplots.AxesSubplot at 0x7f62d5b3a110>"
      ]
     },
     "execution_count": 26,
     "metadata": {},
     "output_type": "execute_result"
    },
    {
     "data": {
      "image/png": "[encoded data removed]",
      "text/plain": [
       "<Figure size 432x288 with 1 Axes>"
      ]
     },
     "metadata": {
      "needs_background": "light"
     },
     "output_type": "display_data"
    }
   ],
   "source": [
    "sns.distplot(df_original[df_original['playlistname'] != 'Starred'].user_playlistname.value_counts())"
   ]
  },
  {
   "cell_type": "code",
   "execution_count": 27,
   "metadata": {
    "id": "OnUNHfKbWUL3"
   },
   "outputs": [],
   "source": [
    "df_original['playlist_length'] = df_original.groupby('user_playlistname')['user_playlistname'].transform('count')"
   ]
  },
  {
   "cell_type": "code",
   "execution_count": 29,
   "metadata": {
    "colab": {
     "base_uri": "https://localhost:8080/",
     "height": 298
    },
    "id": "fzsRDhzuWfC4",
    "outputId": "2fee1bd8-fd54-4bc7-e597-cbe6bd50e53d"
   },
   "outputs": [
    {
     "data": {
      "text/plain": [
       "<matplotlib.axes._subplots.AxesSubplot at 0x7f62d559fc10>"
      ]
     },
     "execution_count": 29,
     "metadata": {},
     "output_type": "execute_result"
    },
    {
     "data": {
      "image/png": "[encoded data removed]",
      "text/plain": [
       "<Figure size 432x288 with 1 Axes>"
      ]
     },
     "metadata": {
      "needs_background": "light"
     },
     "output_type": "display_data"
    }
   ],
   "source": [
    "sns.distplot(df_original.playlist_length)"
   ]
  },
  {
   "cell_type": "code",
   "execution_count": 31,
   "metadata": {
    "colab": {
     "base_uri": "https://localhost:8080/",
     "height": 0
    },
    "id": "kWWokZp4WjmI",
    "outputId": "b13a8c1f-2b70-46fc-aae2-7f65e3b0f583"
   },
   "outputs": [
    {
     "data": {
      "text/plain": [
       "(6426372, 6)"
      ]
     },
     "execution_count": 31,
     "metadata": {},
     "output_type": "execute_result"
    }
   ],
   "source": [
    "df_original.loc[(df_original.playlist_length <= 200) & (df_original.playlist_length >= 3)].shape"
   ]
  },
  {
   "cell_type": "code",
   "execution_count": 32,
   "metadata": {
    "id": "3bWjdd-OXDrF"
   },
   "outputs": [],
   "source": [
    "#12M to 6.4 million"
   ]
  },
  {
   "cell_type": "code",
   "execution_count": 33,
   "metadata": {
    "id": "iVsR7mvNXABZ"
   },
   "outputs": [],
   "source": [
    "df = df_original.loc[(df_original.playlist_length <= 200) & (df_original.playlist_length >= 3)]"
   ]
  },
  {
   "cell_type": "code",
   "execution_count": 34,
   "metadata": {
    "colab": {
     "base_uri": "https://localhost:8080/",
     "height": 298
    },
    "id": "a7vSc31ZXOOB",
    "outputId": "73c3957a-09a4-4c01-c74e-331fa0da13c7"
   },
   "outputs": [
    {
     "data": {
      "text/plain": [
       "<matplotlib.axes._subplots.AxesSubplot at 0x7f62d549f210>"
      ]
     },
     "execution_count": 34,
     "metadata": {},
     "output_type": "execute_result"
    },
    {
     "data": {
      "image/png": "[encoded data removed]",
      "text/plain": [
       "<Figure size 432x288 with 1 Axes>"
      ]
     },
     "metadata": {
      "needs_background": "light"
     },
     "output_type": "display_data"
    }
   ],
   "source": [
    "sns.distplot(df.playlist_length)"
   ]
  },
  {
   "cell_type": "code",
   "execution_count": 36,
   "metadata": {
    "colab": {
     "base_uri": "https://localhost:8080/",
     "height": 0
    },
    "id": "QoUvXBF4XQ_d",
    "outputId": "357eeb00-4a26-4ab1-b1bb-42e7a8a31526"
   },
   "outputs": [
    {
     "data": {
      "text/plain": [
       "[('Starred', 173366),\n",
       " ('Liked from Radio', 105289),\n",
       " ('Favoritas de la radio', 18767),\n",
       " ('Christmas', 13699),\n",
       " ('My Shazam Tracks', 10601),\n",
       " ('Country', 7691),\n",
       " ('Rock', 7626),\n",
       " ('Chill', 7237),\n",
       " ('2014', 7117),\n",
       " ('2013', 5693),\n",
       " ('Running', 5580),\n",
       " ('New Playlist', 5445),\n",
       " ('Classical', 5277),\n",
       " ('Coldplay', 4822),\n",
       " ('Jazz', 4809),\n",
       " ('Oldies', 4331),\n",
       " ('Last.fm Recommendations', 4306),\n",
       " ('Rap', 4264),\n",
       " (\"80's\", 4206),\n",
       " ('Dance', 3888),\n",
       " ('Party', 3808),\n",
       " ('Muse', 3752),\n",
       " ('Workout', 3747),\n",
       " ('2015', 3701),\n",
       " ('90s', 3688),\n",
       " ('U2', 3652),\n",
       " ('80s', 3621),\n",
       " ('Eminem', 3531),\n",
       " ('Relax', 3528),\n",
       " ('Hip Hop', 3439),\n",
       " ('2012', 3318),\n",
       " ('Covers', 3295),\n",
       " ('Soundtracks', 3233),\n",
       " ('Reggae', 3177),\n",
       " ('Radiohead', 3112),\n",
       " ('Mis pistas de Shazam', 3100),\n",
       " ('Pop', 2993),\n",
       " ('Blues', 2949),\n",
       " ('Indie', 2896),\n",
       " ('Summer', 2876),\n",
       " ('Queen', 2866),\n",
       " ('Linkin Park', 2748),\n",
       " ('Classics', 2628),\n",
       " ('Disney', 2615),\n",
       " ('Daft Punk', 2583),\n",
       " ('Foo Fighters', 2571),\n",
       " ('Curtida no Rádio', 2545),\n",
       " ('Work', 2520),\n",
       " ('<3', 2506),\n",
       " ('Metallica', 2469)]"
      ]
     },
     "execution_count": 36,
     "metadata": {},
     "output_type": "execute_result"
    }
   ],
   "source": [
    "# Analyzing most common playlist which may be of Starred songs or My Shazam tracks\n",
    "Counter(df.playlistname).most_common(50)"
   ]
  },
  {
   "cell_type": "code",
   "execution_count": 37,
   "metadata": {
    "id": "84bXPO4KXhbg"
   },
   "outputs": [],
   "source": [
    "not_real_playlist = [\n",
    "    'Starred',\n",
    "    'Liked from Radio',\n",
    "    'Favoritas de la radio',\n",
    "    'My Shazam Tracks',\n",
    "    'Last.fm Recommendations',\n",
    "    'Mis pistas de Shazam',\n",
    "    'Curtida no Rádio'\n",
    "]\n",
    "\n",
    "# These are not personalised playlist and hence will not provide any good insights"
   ]
  },
  {
   "cell_type": "code",
   "execution_count": 38,
   "metadata": {
    "id": "TewjvlCqXu32"
   },
   "outputs": [],
   "source": [
    "df = df[df.playlistname.isin(not_real_playlist) == False]"
   ]
  },
  {
   "cell_type": "code",
   "execution_count": 39,
   "metadata": {
    "colab": {
     "base_uri": "https://localhost:8080/",
     "height": 298
    },
    "id": "I8E0AZf3X0Sh",
    "outputId": "200d6458-f32f-47ca-8ca5-071733449db9"
   },
   "outputs": [
    {
     "data": {
      "text/plain": [
       "<matplotlib.axes._subplots.AxesSubplot at 0x7f62d5404350>"
      ]
     },
     "execution_count": 39,
     "metadata": {},
     "output_type": "execute_result"
    },
    {
     "data": {
      "image/png": "[encoded data removed]",
      "text/plain": [
       "<Figure size 432x288 with 1 Axes>"
      ]
     },
     "metadata": {
      "needs_background": "light"
     },
     "output_type": "display_data"
    }
   ],
   "source": [
    "sns.distplot(df.playlist_length)"
   ]
  },
  {
   "cell_type": "code",
   "execution_count": 40,
   "metadata": {
    "colab": {
     "base_uri": "https://localhost:8080/",
     "height": 0
    },
    "id": "u9rjl3N8X3Aj",
    "outputId": "826f1343-b129-4ce4-8884-6ad829719883"
   },
   "outputs": [
    {
     "data": {
      "text/plain": [
       "(6108398, 6)"
      ]
     },
     "execution_count": 40,
     "metadata": {},
     "output_type": "execute_result"
    }
   ],
   "source": [
    "df.shape"
   ]
  },
  {
   "cell_type": "code",
   "execution_count": 41,
   "metadata": {
    "colab": {
     "base_uri": "https://localhost:8080/",
     "height": 0
    },
    "id": "NDizkTm9YAbz",
    "outputId": "0fcbaa6f-2a36-4004-e8cd-6983753693b7"
   },
   "outputs": [
    {
     "data": {
      "text/plain": [
       "Index(['user_id', 'artist', 'trackname', 'playlistname', 'user_playlistname',\n",
       "       'playlist_length'],\n",
       "      dtype='object')"
      ]
     },
     "execution_count": 41,
     "metadata": {},
     "output_type": "execute_result"
    }
   ],
   "source": [
    "df.columns"
   ]
  },
  {
   "cell_type": "code",
   "execution_count": 43,
   "metadata": {
    "id": "uX5XbJbeYCXP"
   },
   "outputs": [],
   "source": [
    "## Model Architecture:\n",
    "#\n",
    "# input vector: [artist; playlist_name; song_name] - {last 4 songs}\n",
    "# input vector to Embedding Layer\n",
    "# Embedding Layer to RNN Encoder\n",
    "# Encoder to Feed Forword Network to estimate the probability distribution of most similar song"
   ]
  },
  {
   "cell_type": "markdown",
   "metadata": {
    "id": "irZ3DwE7Zuhs"
   },
   "source": [
    "# Problem:\n",
    "How to encode Artist and weird playlist names?"
   ]
  },
  {
   "cell_type": "code",
   "execution_count": 61,
   "metadata": {
    "colab": {
     "base_uri": "https://localhost:8080/",
     "height": 206
    },
    "id": "wfOjLAvmY54Z",
    "outputId": "61f986c0-ac95-484e-bc43-f280614e5826"
   },
   "outputs": [
    {
     "data": {
      "text/html": [
       "\n",
       "  <div id=\"df-a197cc06-8870-40c8-81b9-1cacca719745\">\n",
       "    <div class=\"colab-df-container\">\n",
       "      <div>\n",
       "<style scoped>\n",
       "    .dataframe tbody tr th:only-of-type {\n",
       "        vertical-align: middle;\n",
       "    }\n",
       "\n",
       "    .dataframe tbody tr th {\n",
       "        vertical-align: top;\n",
       "    }\n",
       "\n",
       "    .dataframe thead th {\n",
       "        text-align: right;\n",
       "    }\n",
       "</style>\n",
       "<table border=\"1\" class=\"dataframe\">\n",
       "  <thead>\n",
       "    <tr style=\"text-align: right;\">\n",
       "      <th></th>\n",
       "      <th>playlistname</th>\n",
       "      <th>trackname</th>\n",
       "    </tr>\n",
       "  </thead>\n",
       "  <tbody>\n",
       "    <tr>\n",
       "      <th>0</th>\n",
       "      <td>HARD ROCK 2010</td>\n",
       "      <td>(The Angels Wanna Wear My) Red Shoes</td>\n",
       "    </tr>\n",
       "    <tr>\n",
       "      <th>1</th>\n",
       "      <td>HARD ROCK 2010</td>\n",
       "      <td>(What's So Funny 'Bout) Peace, Love And Unders...</td>\n",
       "    </tr>\n",
       "    <tr>\n",
       "      <th>2</th>\n",
       "      <td>HARD ROCK 2010</td>\n",
       "      <td>7 Years Too Late</td>\n",
       "    </tr>\n",
       "    <tr>\n",
       "      <th>3</th>\n",
       "      <td>HARD ROCK 2010</td>\n",
       "      <td>Accidents Will Happen</td>\n",
       "    </tr>\n",
       "    <tr>\n",
       "      <th>4</th>\n",
       "      <td>HARD ROCK 2010</td>\n",
       "      <td>Alison</td>\n",
       "    </tr>\n",
       "  </tbody>\n",
       "</table>\n",
       "</div>\n",
       "      <button class=\"colab-df-convert\" onclick=\"convertToInteractive('df-a197cc06-8870-40c8-81b9-1cacca719745')\"\n",
       "              title=\"Convert this dataframe to an interactive table.\"\n",
       "              style=\"display:none;\">\n",
       "        \n",
       "  <svg xmlns=\"http://www.w3.org/2000/svg\" height=\"24px\"viewBox=\"0 0 24 24\"\n",
       "       width=\"24px\">\n",
       "    <path d=\"M0 0h24v24H0V0z\" fill=\"none\"/>\n",
       "    <path d=\"M18.56 5.44l.94 2.06.94-2.06 2.06-.94-2.06-.94-.94-2.06-.94 2.06-2.06.94zm-11 1L8.5 8.5l.94-2.06 2.06-.94-2.06-.94L8.5 2.5l-.94 2.06-2.06.94zm10 10l.94 2.06.94-2.06 2.06-.94-2.06-.94-.94-2.06-.94 2.06-2.06.94z\"/><path d=\"M17.41 7.96l-1.37-1.37c-.4-.4-.92-.59-1.43-.59-.52 0-1.04.2-1.43.59L10.3 9.45l-7.72 7.72c-.78.78-.78 2.05 0 2.83L4 21.41c.39.39.9.59 1.41.59.51 0 1.02-.2 1.41-.59l7.78-7.78 2.81-2.81c.8-.78.8-2.07 0-2.86zM5.41 20L4 18.59l7.72-7.72 1.47 1.35L5.41 20z\"/>\n",
       "  </svg>\n",
       "      </button>\n",
       "      \n",
       "  <style>\n",
       "    .colab-df-container {\n",
       "      display:flex;\n",
       "      flex-wrap:wrap;\n",
       "      gap: 12px;\n",
       "    }\n",
       "\n",
       "    .colab-df-convert {\n",
       "      background-color: #E8F0FE;\n",
       "      border: none;\n",
       "      border-radius: 50%;\n",
       "      cursor: pointer;\n",
       "      display: none;\n",
       "      fill: #1967D2;\n",
       "      height: 32px;\n",
       "      padding: 0 0 0 0;\n",
       "      width: 32px;\n",
       "    }\n",
       "\n",
       "    .colab-df-convert:hover {\n",
       "      background-color: #E2EBFA;\n",
       "      box-shadow: 0px 1px 2px rgba(60, 64, 67, 0.3), 0px 1px 3px 1px rgba(60, 64, 67, 0.15);\n",
       "      fill: #174EA6;\n",
       "    }\n",
       "\n",
       "    [theme=dark] .colab-df-convert {\n",
       "      background-color: #3B4455;\n",
       "      fill: #D2E3FC;\n",
       "    }\n",
       "\n",
       "    [theme=dark] .colab-df-convert:hover {\n",
       "      background-color: #434B5C;\n",
       "      box-shadow: 0px 1px 3px 1px rgba(0, 0, 0, 0.15);\n",
       "      filter: drop-shadow(0px 1px 2px rgba(0, 0, 0, 0.3));\n",
       "      fill: #FFFFFF;\n",
       "    }\n",
       "  </style>\n",
       "\n",
       "      <script>\n",
       "        const buttonEl =\n",
       "          document.querySelector('#df-a197cc06-8870-40c8-81b9-1cacca719745 button.colab-df-convert');\n",
       "        buttonEl.style.display =\n",
       "          google.colab.kernel.accessAllowed ? 'block' : 'none';\n",
       "\n",
       "        async function convertToInteractive(key) {\n",
       "          const element = document.querySelector('#df-a197cc06-8870-40c8-81b9-1cacca719745');\n",
       "          const dataTable =\n",
       "            await google.colab.kernel.invokeFunction('convertToInteractive',\n",
       "                                                     [key], {});\n",
       "          if (!dataTable) return;\n",
       "\n",
       "          const docLinkHtml = 'Like what you see? Visit the ' +\n",
       "            '<a target=\"_blank\" href=https://colab.research.google.com/notebooks/data_table.ipynb>data table notebook</a>'\n",
       "            + ' to learn more about interactive tables.';\n",
       "          element.innerHTML = '';\n",
       "          dataTable['output_type'] = 'display_data';\n",
       "          await google.colab.output.renderOutput(dataTable, element);\n",
       "          const docLink = document.createElement('div');\n",
       "          docLink.innerHTML = docLinkHtml;\n",
       "          element.appendChild(docLink);\n",
       "        }\n",
       "      </script>\n",
       "    </div>\n",
       "  </div>\n",
       "  "
      ],
      "text/plain": [
       "     playlistname                                          trackname\n",
       "0  HARD ROCK 2010               (The Angels Wanna Wear My) Red Shoes\n",
       "1  HARD ROCK 2010  (What's So Funny 'Bout) Peace, Love And Unders...\n",
       "2  HARD ROCK 2010                                   7 Years Too Late\n",
       "3  HARD ROCK 2010                              Accidents Will Happen\n",
       "4  HARD ROCK 2010                                             Alison"
      ]
     },
     "execution_count": 61,
     "metadata": {},
     "output_type": "execute_result"
    }
   ],
   "source": [
    "df2 = df[['playlistname', 'trackname']]\n",
    "df2.head()"
   ]
  },
  {
   "cell_type": "code",
   "execution_count": 77,
   "metadata": {
    "colab": {
     "base_uri": "https://localhost:8080/",
     "height": 0
    },
    "id": "DXOp3meOZa_G",
    "outputId": "ee66e13c-101f-4bb5-e772-197b9a7131f4"
   },
   "outputs": [
    {
     "data": {
      "text/plain": [
       "(61084, 2)"
      ]
     },
     "execution_count": 77,
     "metadata": {},
     "output_type": "execute_result"
    }
   ],
   "source": [
    "# Selecting subset of data\n",
    "df3 = df2.sample(frac = 0.01, random_state = 0)\n",
    "df3.shape"
   ]
  },
  {
   "cell_type": "code",
   "execution_count": null,
   "metadata": {
    "id": "8x_KHHuCfw9g"
   },
   "outputs": [],
   "source": [
    "# import pickle\n",
    "\n",
    "# DATA_PATH = \"/content/drive/MyDrive/NLP\"\n",
    "# infile = open(DATA_PATH+'/notMNIST.pickle','rb')\n",
    "# best_model2 = pickle.load(infile)"
   ]
  },
  {
   "cell_type": "markdown",
   "metadata": {
    "id": "H5AxB8adeZcq"
   },
   "source": [
    "Using apply() method to combine two columns of text\n",
    "df[\"Period\"] = df[[\"Courses\", \"Duration\"]].apply(\"-\".join, axis=1)\n",
    "\n",
    "Using DataFrame.agg() to combine two columns of text\n",
    "df[\"period\"] = df[['Courses', 'Duration']].agg('-'.join, axis=1)\n",
    "\n",
    "**Using + operator to combine two columns**\n",
    "*df[\"Period\"] = df['Courses'].astype(str) +\"-\"+ df[\"Duration\"]*"
   ]
  },
  {
   "cell_type": "code",
   "execution_count": 78,
   "metadata": {
    "colab": {
     "base_uri": "https://localhost:8080/",
     "height": 206
    },
    "id": "dyLnA8MAcESu",
    "outputId": "38d48bd9-fbfc-42a5-be71-217dc75a6bdd"
   },
   "outputs": [
    {
     "data": {
      "text/html": [
       "\n",
       "  <div id=\"df-b15c7b9c-7a9a-4bcf-81f4-d76fc5c96aa8\">\n",
       "    <div class=\"colab-df-container\">\n",
       "      <div>\n",
       "<style scoped>\n",
       "    .dataframe tbody tr th:only-of-type {\n",
       "        vertical-align: middle;\n",
       "    }\n",
       "\n",
       "    .dataframe tbody tr th {\n",
       "        vertical-align: top;\n",
       "    }\n",
       "\n",
       "    .dataframe thead th {\n",
       "        text-align: right;\n",
       "    }\n",
       "</style>\n",
       "<table border=\"1\" class=\"dataframe\">\n",
       "  <thead>\n",
       "    <tr style=\"text-align: right;\">\n",
       "      <th></th>\n",
       "      <th>playlistname</th>\n",
       "      <th>trackname</th>\n",
       "      <th>input</th>\n",
       "    </tr>\n",
       "  </thead>\n",
       "  <tbody>\n",
       "    <tr>\n",
       "      <th>10083973</th>\n",
       "      <td>Max Richter</td>\n",
       "      <td>Infra 3</td>\n",
       "      <td>Infra 3-Max Richter</td>\n",
       "    </tr>\n",
       "    <tr>\n",
       "      <th>10566166</th>\n",
       "      <td>tbd</td>\n",
       "      <td>Midnight City</td>\n",
       "      <td>Midnight City-tbd</td>\n",
       "    </tr>\n",
       "    <tr>\n",
       "      <th>3639053</th>\n",
       "      <td>FABS &gt; Sirens</td>\n",
       "      <td>Two Weeks</td>\n",
       "      <td>Two Weeks-FABS &gt; Sirens</td>\n",
       "    </tr>\n",
       "    <tr>\n",
       "      <th>1772328</th>\n",
       "      <td>Robert Johnson – The Road To Robert Johnson An...</td>\n",
       "      <td>Honky Tonk Train Blues</td>\n",
       "      <td>Honky Tonk Train Blues-Robert Johnson – The Ro...</td>\n",
       "    </tr>\n",
       "    <tr>\n",
       "      <th>4073584</th>\n",
       "      <td>smaak! ingredient: soul food</td>\n",
       "      <td>Soulfood</td>\n",
       "      <td>Soulfood-smaak! ingredient: soul food</td>\n",
       "    </tr>\n",
       "  </tbody>\n",
       "</table>\n",
       "</div>\n",
       "      <button class=\"colab-df-convert\" onclick=\"convertToInteractive('df-b15c7b9c-7a9a-4bcf-81f4-d76fc5c96aa8')\"\n",
       "              title=\"Convert this dataframe to an interactive table.\"\n",
       "              style=\"display:none;\">\n",
       "        \n",
       "  <svg xmlns=\"http://www.w3.org/2000/svg\" height=\"24px\"viewBox=\"0 0 24 24\"\n",
       "       width=\"24px\">\n",
       "    <path d=\"M0 0h24v24H0V0z\" fill=\"none\"/>\n",
       "    <path d=\"M18.56 5.44l.94 2.06.94-2.06 2.06-.94-2.06-.94-.94-2.06-.94 2.06-2.06.94zm-11 1L8.5 8.5l.94-2.06 2.06-.94-2.06-.94L8.5 2.5l-.94 2.06-2.06.94zm10 10l.94 2.06.94-2.06 2.06-.94-2.06-.94-.94-2.06-.94 2.06-2.06.94z\"/><path d=\"M17.41 7.96l-1.37-1.37c-.4-.4-.92-.59-1.43-.59-.52 0-1.04.2-1.43.59L10.3 9.45l-7.72 7.72c-.78.78-.78 2.05 0 2.83L4 21.41c.39.39.9.59 1.41.59.51 0 1.02-.2 1.41-.59l7.78-7.78 2.81-2.81c.8-.78.8-2.07 0-2.86zM5.41 20L4 18.59l7.72-7.72 1.47 1.35L5.41 20z\"/>\n",
       "  </svg>\n",
       "      </button>\n",
       "      \n",
       "  <style>\n",
       "    .colab-df-container {\n",
       "      display:flex;\n",
       "      flex-wrap:wrap;\n",
       "      gap: 12px;\n",
       "    }\n",
       "\n",
       "    .colab-df-convert {\n",
       "      background-color: #E8F0FE;\n",
       "      border: none;\n",
       "      border-radius: 50%;\n",
       "      cursor: pointer;\n",
       "      display: none;\n",
       "      fill: #1967D2;\n",
       "      height: 32px;\n",
       "      padding: 0 0 0 0;\n",
       "      width: 32px;\n",
       "    }\n",
       "\n",
       "    .colab-df-convert:hover {\n",
       "      background-color: #E2EBFA;\n",
       "      box-shadow: 0px 1px 2px rgba(60, 64, 67, 0.3), 0px 1px 3px 1px rgba(60, 64, 67, 0.15);\n",
       "      fill: #174EA6;\n",
       "    }\n",
       "\n",
       "    [theme=dark] .colab-df-convert {\n",
       "      background-color: #3B4455;\n",
       "      fill: #D2E3FC;\n",
       "    }\n",
       "\n",
       "    [theme=dark] .colab-df-convert:hover {\n",
       "      background-color: #434B5C;\n",
       "      box-shadow: 0px 1px 3px 1px rgba(0, 0, 0, 0.15);\n",
       "      filter: drop-shadow(0px 1px 2px rgba(0, 0, 0, 0.3));\n",
       "      fill: #FFFFFF;\n",
       "    }\n",
       "  </style>\n",
       "\n",
       "      <script>\n",
       "        const buttonEl =\n",
       "          document.querySelector('#df-b15c7b9c-7a9a-4bcf-81f4-d76fc5c96aa8 button.colab-df-convert');\n",
       "        buttonEl.style.display =\n",
       "          google.colab.kernel.accessAllowed ? 'block' : 'none';\n",
       "\n",
       "        async function convertToInteractive(key) {\n",
       "          const element = document.querySelector('#df-b15c7b9c-7a9a-4bcf-81f4-d76fc5c96aa8');\n",
       "          const dataTable =\n",
       "            await google.colab.kernel.invokeFunction('convertToInteractive',\n",
       "                                                     [key], {});\n",
       "          if (!dataTable) return;\n",
       "\n",
       "          const docLinkHtml = 'Like what you see? Visit the ' +\n",
       "            '<a target=\"_blank\" href=https://colab.research.google.com/notebooks/data_table.ipynb>data table notebook</a>'\n",
       "            + ' to learn more about interactive tables.';\n",
       "          element.innerHTML = '';\n",
       "          dataTable['output_type'] = 'display_data';\n",
       "          await google.colab.output.renderOutput(dataTable, element);\n",
       "          const docLink = document.createElement('div');\n",
       "          docLink.innerHTML = docLinkHtml;\n",
       "          element.appendChild(docLink);\n",
       "        }\n",
       "      </script>\n",
       "    </div>\n",
       "  </div>\n",
       "  "
      ],
      "text/plain": [
       "                                               playlistname  \\\n",
       "10083973                                        Max Richter   \n",
       "10566166                                                tbd   \n",
       "3639053                                       FABS > Sirens   \n",
       "1772328   Robert Johnson – The Road To Robert Johnson An...   \n",
       "4073584                        smaak! ingredient: soul food   \n",
       "\n",
       "                       trackname  \\\n",
       "10083973                 Infra 3   \n",
       "10566166           Midnight City   \n",
       "3639053                Two Weeks   \n",
       "1772328   Honky Tonk Train Blues   \n",
       "4073584                 Soulfood   \n",
       "\n",
       "                                                      input  \n",
       "10083973                                Infra 3-Max Richter  \n",
       "10566166                                  Midnight City-tbd  \n",
       "3639053                             Two Weeks-FABS > Sirens  \n",
       "1772328   Honky Tonk Train Blues-Robert Johnson – The Ro...  \n",
       "4073584               Soulfood-smaak! ingredient: soul food  "
      ]
     },
     "execution_count": 78,
     "metadata": {},
     "output_type": "execute_result"
    }
   ],
   "source": [
    "df3['input'] = df3['trackname'].astype(str) +\"-\"+ df[\"playlistname\"].astype(str)\n",
    "df3.head()"
   ]
  },
  {
   "cell_type": "code",
   "execution_count": 51,
   "metadata": {
    "id": "_oM1tqOcbjay"
   },
   "outputs": [],
   "source": [
    "import numpy as np\n",
    "import tensorflow as tf\n",
    "from tensorflow import keras"
   ]
  },
  {
   "cell_type": "code",
   "execution_count": 64,
   "metadata": {
    "colab": {
     "base_uri": "https://localhost:8080/",
     "height": 0
    },
    "id": "Ak2cH2oSb06c",
    "outputId": "74c7721f-e409-4419-815e-98d9693aadd7"
   },
   "outputs": [
    {
     "data": {
      "text/plain": [
       "int"
      ]
     },
     "execution_count": 64,
     "metadata": {},
     "output_type": "execute_result"
    }
   ],
   "source": [
    "type(df3.shape[0])"
   ]
  },
  {
   "cell_type": "code",
   "execution_count": 83,
   "metadata": {
    "id": "R0GxY6iCcTIQ"
   },
   "outputs": [],
   "source": [
    "dff = df3['input']"
   ]
  },
  {
   "cell_type": "code",
   "execution_count": 85,
   "metadata": {
    "colab": {
     "base_uri": "https://localhost:8080/",
     "height": 250
    },
    "id": "YzN2YpHrglzt",
    "outputId": "18caa77b-19dd-47b1-9e04-a2b7f53f55a1"
   },
   "outputs": [
    {
     "data": {
      "text/html": [
       "\n",
       "  <div id=\"df-347dc765-1f93-40d8-8dfc-5951fb3c4854\">\n",
       "    <div class=\"colab-df-container\">\n",
       "      <div>\n",
       "<style scoped>\n",
       "    .dataframe tbody tr th:only-of-type {\n",
       "        vertical-align: middle;\n",
       "    }\n",
       "\n",
       "    .dataframe tbody tr th {\n",
       "        vertical-align: top;\n",
       "    }\n",
       "\n",
       "    .dataframe thead th {\n",
       "        text-align: right;\n",
       "    }\n",
       "</style>\n",
       "<table border=\"1\" class=\"dataframe\">\n",
       "  <thead>\n",
       "    <tr style=\"text-align: right;\">\n",
       "      <th></th>\n",
       "      <th>playlistname</th>\n",
       "      <th>trackname</th>\n",
       "      <th>input</th>\n",
       "    </tr>\n",
       "  </thead>\n",
       "  <tbody>\n",
       "    <tr>\n",
       "      <th>5009163</th>\n",
       "      <td>Glenn Gould – Bach: Two and Three Part Inventi...</td>\n",
       "      <td>Invention No. 5 in E-Flat Major, BWV 776</td>\n",
       "      <td>Invention No. 5 in E-Flat Major, BWV 776-Glenn...</td>\n",
       "    </tr>\n",
       "    <tr>\n",
       "      <th>10632217</th>\n",
       "      <td>Bruce Springsteen</td>\n",
       "      <td>Spirit in the Night</td>\n",
       "      <td>Spirit in the Night-Bruce Springsteen</td>\n",
       "    </tr>\n",
       "    <tr>\n",
       "      <th>1827064</th>\n",
       "      <td>Can't Stop Won't Stop (songs from the book)</td>\n",
       "      <td>Gangsta Gangsta</td>\n",
       "      <td>Gangsta Gangsta-Can't Stop Won't Stop (songs f...</td>\n",
       "    </tr>\n",
       "    <tr>\n",
       "      <th>9056517</th>\n",
       "      <td>Gesaffelstein – I Love Techno 2013</td>\n",
       "      <td>Pure Energy</td>\n",
       "      <td>Pure Energy-Gesaffelstein – I Love Techno 2013</td>\n",
       "    </tr>\n",
       "    <tr>\n",
       "      <th>85140</th>\n",
       "      <td>2013</td>\n",
       "      <td>Breezeblocks</td>\n",
       "      <td>Breezeblocks-2013</td>\n",
       "    </tr>\n",
       "  </tbody>\n",
       "</table>\n",
       "</div>\n",
       "      <button class=\"colab-df-convert\" onclick=\"convertToInteractive('df-347dc765-1f93-40d8-8dfc-5951fb3c4854')\"\n",
       "              title=\"Convert this dataframe to an interactive table.\"\n",
       "              style=\"display:none;\">\n",
       "        \n",
       "  <svg xmlns=\"http://www.w3.org/2000/svg\" height=\"24px\"viewBox=\"0 0 24 24\"\n",
       "       width=\"24px\">\n",
       "    <path d=\"M0 0h24v24H0V0z\" fill=\"none\"/>\n",
       "    <path d=\"M18.56 5.44l.94 2.06.94-2.06 2.06-.94-2.06-.94-.94-2.06-.94 2.06-2.06.94zm-11 1L8.5 8.5l.94-2.06 2.06-.94-2.06-.94L8.5 2.5l-.94 2.06-2.06.94zm10 10l.94 2.06.94-2.06 2.06-.94-2.06-.94-.94-2.06-.94 2.06-2.06.94z\"/><path d=\"M17.41 7.96l-1.37-1.37c-.4-.4-.92-.59-1.43-.59-.52 0-1.04.2-1.43.59L10.3 9.45l-7.72 7.72c-.78.78-.78 2.05 0 2.83L4 21.41c.39.39.9.59 1.41.59.51 0 1.02-.2 1.41-.59l7.78-7.78 2.81-2.81c.8-.78.8-2.07 0-2.86zM5.41 20L4 18.59l7.72-7.72 1.47 1.35L5.41 20z\"/>\n",
       "  </svg>\n",
       "      </button>\n",
       "      \n",
       "  <style>\n",
       "    .colab-df-container {\n",
       "      display:flex;\n",
       "      flex-wrap:wrap;\n",
       "      gap: 12px;\n",
       "    }\n",
       "\n",
       "    .colab-df-convert {\n",
       "      background-color: #E8F0FE;\n",
       "      border: none;\n",
       "      border-radius: 50%;\n",
       "      cursor: pointer;\n",
       "      display: none;\n",
       "      fill: #1967D2;\n",
       "      height: 32px;\n",
       "      padding: 0 0 0 0;\n",
       "      width: 32px;\n",
       "    }\n",
       "\n",
       "    .colab-df-convert:hover {\n",
       "      background-color: #E2EBFA;\n",
       "      box-shadow: 0px 1px 2px rgba(60, 64, 67, 0.3), 0px 1px 3px 1px rgba(60, 64, 67, 0.15);\n",
       "      fill: #174EA6;\n",
       "    }\n",
       "\n",
       "    [theme=dark] .colab-df-convert {\n",
       "      background-color: #3B4455;\n",
       "      fill: #D2E3FC;\n",
       "    }\n",
       "\n",
       "    [theme=dark] .colab-df-convert:hover {\n",
       "      background-color: #434B5C;\n",
       "      box-shadow: 0px 1px 3px 1px rgba(0, 0, 0, 0.15);\n",
       "      filter: drop-shadow(0px 1px 2px rgba(0, 0, 0, 0.3));\n",
       "      fill: #FFFFFF;\n",
       "    }\n",
       "  </style>\n",
       "\n",
       "      <script>\n",
       "        const buttonEl =\n",
       "          document.querySelector('#df-347dc765-1f93-40d8-8dfc-5951fb3c4854 button.colab-df-convert');\n",
       "        buttonEl.style.display =\n",
       "          google.colab.kernel.accessAllowed ? 'block' : 'none';\n",
       "\n",
       "        async function convertToInteractive(key) {\n",
       "          const element = document.querySelector('#df-347dc765-1f93-40d8-8dfc-5951fb3c4854');\n",
       "          const dataTable =\n",
       "            await google.colab.kernel.invokeFunction('convertToInteractive',\n",
       "                                                     [key], {});\n",
       "          if (!dataTable) return;\n",
       "\n",
       "          const docLinkHtml = 'Like what you see? Visit the ' +\n",
       "            '<a target=\"_blank\" href=https://colab.research.google.com/notebooks/data_table.ipynb>data table notebook</a>'\n",
       "            + ' to learn more about interactive tables.';\n",
       "          element.innerHTML = '';\n",
       "          dataTable['output_type'] = 'display_data';\n",
       "          await google.colab.output.renderOutput(dataTable, element);\n",
       "          const docLink = document.createElement('div');\n",
       "          docLink.innerHTML = docLinkHtml;\n",
       "          element.appendChild(docLink);\n",
       "        }\n",
       "      </script>\n",
       "    </div>\n",
       "  </div>\n",
       "  "
      ],
      "text/plain": [
       "                                               playlistname  \\\n",
       "5009163   Glenn Gould – Bach: Two and Three Part Inventi...   \n",
       "10632217                                  Bruce Springsteen   \n",
       "1827064         Can't Stop Won't Stop (songs from the book)   \n",
       "9056517                  Gesaffelstein – I Love Techno 2013   \n",
       "85140                                                  2013   \n",
       "\n",
       "                                         trackname  \\\n",
       "5009163   Invention No. 5 in E-Flat Major, BWV 776   \n",
       "10632217                       Spirit in the Night   \n",
       "1827064                            Gangsta Gangsta   \n",
       "9056517                                Pure Energy   \n",
       "85140                                 Breezeblocks   \n",
       "\n",
       "                                                      input  \n",
       "5009163   Invention No. 5 in E-Flat Major, BWV 776-Glenn...  \n",
       "10632217              Spirit in the Night-Bruce Springsteen  \n",
       "1827064   Gangsta Gangsta-Can't Stop Won't Stop (songs f...  \n",
       "9056517      Pure Energy-Gesaffelstein – I Love Techno 2013  \n",
       "85140                                     Breezeblocks-2013  "
      ]
     },
     "execution_count": 85,
     "metadata": {},
     "output_type": "execute_result"
    }
   ],
   "source": [
    "df3.head()"
   ]
  },
  {
   "cell_type": "code",
   "execution_count": 84,
   "metadata": {
    "colab": {
     "base_uri": "https://localhost:8080/",
     "height": 0
    },
    "id": "9LkZQUVlghf0",
    "outputId": "3955ab5b-7ab1-44d5-9f9b-8d24a66221e4"
   },
   "outputs": [
    {
     "data": {
      "text/plain": [
       "5009163     Invention No. 5 in E-Flat Major, BWV 776-Glenn...\n",
       "10632217                Spirit in the Night-Bruce Springsteen\n",
       "1827064     Gangsta Gangsta-Can't Stop Won't Stop (songs f...\n",
       "9056517        Pure Energy-Gesaffelstein – I Love Techno 2013\n",
       "85140                                       Breezeblocks-2013\n",
       "Name: input, dtype: object"
      ]
     },
     "execution_count": 84,
     "metadata": {},
     "output_type": "execute_result"
    }
   ],
   "source": [
    "dff.head()"
   ]
  },
  {
   "cell_type": "code",
   "execution_count": 87,
   "metadata": {
    "colab": {
     "base_uri": "https://localhost:8080/",
     "height": 0
    },
    "id": "Z7wys4ZadPIx",
    "outputId": "0db97aa8-bd51-4585-c40c-8b25d0c16942"
   },
   "outputs": [
    {
     "data": {
      "text/plain": [
       "pandas.core.series.Series"
      ]
     },
     "execution_count": 87,
     "metadata": {},
     "output_type": "execute_result"
    }
   ],
   "source": [
    "type(dff)"
   ]
  },
  {
   "cell_type": "code",
   "execution_count": 89,
   "metadata": {
    "id": "mURLOzKebTq7"
   },
   "outputs": [],
   "source": [
    "# Shuffle the data\n",
    "\n",
    "dff = dff.sample(frac = 1, random_state = 1337)\n",
    "\n",
    "\n",
    "# Training and validation split\n",
    "validation_split = 0.2\n",
    "num_vaidation_samples = int(validation_split * dff.shape[0])\n",
    "train_samples = dff[ : -num_vaidation_samples]\n",
    "val_samples = dff[-num_vaidation_samples : ]"
   ]
  },
  {
   "cell_type": "markdown",
   "metadata": {
    "id": "FffFFZThefSa"
   },
   "source": []
  },
  {
   "cell_type": "code",
   "execution_count": 90,
   "metadata": {
    "id": "ppdL6FH2cny9"
   },
   "outputs": [],
   "source": [
    "# Creating a vocabulary index\n",
    "# using TextVectorization to index the vocabulary found in the dataset\n",
    "\n",
    "from tensorflow.keras.layers import TextVectorization\n",
    "\n",
    "vectorizer = TextVectorization(max_tokens = 20000, output_sequence_length = 200)\n",
    "text_ds = tf.data.Dataset.from_tensor_slices(train_samples).batch(128)\n",
    "vectorizer.adapt(text_ds)"
   ]
  },
  {
   "cell_type": "code",
   "execution_count": 91,
   "metadata": {
    "colab": {
     "base_uri": "https://localhost:8080/",
     "height": 0
    },
    "id": "2tHxWcWMhNv4",
    "outputId": "9f80996d-982f-442f-d22c-a770915fefa3"
   },
   "outputs": [
    {
     "data": {
      "text/plain": [
       "['', '[UNK]', 'the', '–', 'of', 'in', 'a', 'i', 'to', 'you']"
      ]
     },
     "execution_count": 91,
     "metadata": {},
     "output_type": "execute_result"
    }
   ],
   "source": [
    "# Retriving computed vocabulary used\n",
    "vectorizer.get_vocabulary()[:10]"
   ]
  },
  {
   "cell_type": "code",
   "execution_count": 92,
   "metadata": {
    "id": "c3objzQ0hTQs"
   },
   "outputs": [],
   "source": [
    "# dict mapping words to their indices:\n",
    "voc = vectorizer.get_vocabulary()\n",
    "word_index = dict(zip(voc, range(len(voc))))"
   ]
  },
  {
   "cell_type": "code",
   "execution_count": 97,
   "metadata": {
    "colab": {
     "base_uri": "https://localhost:8080/",
     "height": 0
    },
    "id": "lWm_ak3djh7B",
    "outputId": "e04f3f65-7ed0-4ee1-bda3-861073b061ad"
   },
   "outputs": [
    {
     "data": {
      "text/plain": [
       "[489, 14, 16]"
      ]
     },
     "execution_count": 97,
     "metadata": {},
     "output_type": "execute_result"
    }
   ],
   "source": [
    "test = ['rolling', 'on', 'love']\n",
    "[word_index[w] for w in test]"
   ]
  },
  {
   "cell_type": "markdown",
   "metadata": {
    "id": "p50Ir_6XheXo"
   },
   "source": [
    "Load pre-trained word embeddings"
   ]
  },
  {
   "cell_type": "code",
   "execution_count": 93,
   "metadata": {
    "colab": {
     "base_uri": "https://localhost:8080/",
     "height": 0
    },
    "id": "a-U-JDqzhc2b",
    "outputId": "5e0b6e22-643d-4731-d828-ce9b3ccd7826"
   },
   "outputs": [
    {
     "name": "stdout",
     "output_type": "stream",
     "text": [
      "--2022-10-21 17:12:39--  http://nlp.stanford.edu/data/glove.6B.zip\n",
      "Resolving nlp.stanford.edu (nlp.stanford.edu)... 171.64.67.140\n",
      "Connecting to nlp.stanford.edu (nlp.stanford.edu)|171.64.67.140|:80... connected.\n",
      "HTTP request sent, awaiting response... 302 Found\n",
      "Location: https://nlp.stanford.edu/data/glove.6B.zip [following]\n",
      "--2022-10-21 17:12:39--  https://nlp.stanford.edu/data/glove.6B.zip\n",
      "Connecting to nlp.stanford.edu (nlp.stanford.edu)|171.64.67.140|:443... connected.\n",
      "HTTP request sent, awaiting response... 301 Moved Permanently\n",
      "Location: https://downloads.cs.stanford.edu/nlp/data/glove.6B.zip [following]\n",
      "--2022-10-21 17:12:40--  https://downloads.cs.stanford.edu/nlp/data/glove.6B.zip\n",
      "Resolving downloads.cs.stanford.edu (downloads.cs.stanford.edu)... 171.64.64.22\n",
      "Connecting to downloads.cs.stanford.edu (downloads.cs.stanford.edu)|171.64.64.22|:443... connected.\n",
      "HTTP request sent, awaiting response... 200 OK\n",
      "Length: 862182613 (822M) [application/zip]\n",
      "Saving to: ‘glove.6B.zip’\n",
      "\n",
      "glove.6B.zip        100%[===================>] 822.24M  5.12MB/s    in 2m 39s  \n",
      "\n",
      "2022-10-21 17:15:20 (5.17 MB/s) - ‘glove.6B.zip’ saved [862182613/862182613]\n",
      "\n"
     ]
    }
   ],
   "source": [
    "!wget http://nlp.stanford.edu/data/glove.6B.zip\n",
    "!unzip -q glove.6B.zip"
   ]
  },
  {
   "cell_type": "code",
   "execution_count": 94,
   "metadata": {
    "id": "5EwcOrNPi_Bz"
   },
   "outputs": [],
   "source": [
    "# we will use 100d vectors"
   ]
  },
  {
   "cell_type": "code",
   "execution_count": 98,
   "metadata": {
    "colab": {
     "base_uri": "https://localhost:8080/",
     "height": 0
    },
    "id": "_xOSlC_6jFsP",
    "outputId": "860b8aa2-e993-42eb-a6ce-c1f1f6cde880"
   },
   "outputs": [
    {
     "name": "stdout",
     "output_type": "stream",
     "text": [
      "Found 400000 word vectors.\n"
     ]
    }
   ],
   "source": [
    "import os\n",
    "import pathlib\n",
    "\n",
    "path_to_glove_file = os.path.join(\n",
    "    os.path.expanduser(\"~\"), \"/content/glove.6B.100d.txt\"\n",
    ")\n",
    "\n",
    "embeddings_index = {}\n",
    "with open(path_to_glove_file) as f:\n",
    "    for line in f:\n",
    "        word, coefs = line.split(maxsplit=1)\n",
    "        coefs = np.fromstring(coefs, \"f\", sep=\" \")\n",
    "        embeddings_index[word] = coefs\n",
    "\n",
    "print(\"Found %s word vectors.\" % len(embeddings_index))"
   ]
  },
  {
   "cell_type": "code",
   "execution_count": 99,
   "metadata": {
    "colab": {
     "base_uri": "https://localhost:8080/",
     "height": 0
    },
    "id": "lgr-sA5QkY5i",
    "outputId": "ba4667be-0121-443c-9b5e-c28631bf55ea"
   },
   "outputs": [
    {
     "name": "stdout",
     "output_type": "stream",
     "text": [
      "Converted 11586 words (8414 misses)\n"
     ]
    }
   ],
   "source": [
    "# Embedding matrix that can be used in Keras Embedding layer\n",
    "num_tokens = len(voc) + 2\n",
    "embedding_dim = 100\n",
    "hits = 0\n",
    "misses = 0\n",
    "\n",
    "# Prepare embedding matrix\n",
    "embedding_matrix = np.zeros((num_tokens, embedding_dim))\n",
    "\n",
    "for word, i in word_index.items():\n",
    "  embedding_vector = embeddings_index.get(word)\n",
    "  if embedding_vector is not None:\n",
    "    # Words not found in embedding index will be all-zeros.\n",
    "    # This includes the representation for \"padding\" and \"OOV\"\n",
    "    embedding_matrix[i] = embedding_vector\n",
    "    hits += 1\n",
    "  else:\n",
    "    misses += 1\n",
    "\n",
    "print(\"Converted %d words (%d misses)\" % (hits, misses))"
   ]
  },
  {
   "cell_type": "markdown",
   "metadata": {
    "id": "WS60zoUAkrDj"
   },
   "source": [
    "* Loading pre-trained word embeddings matrix into an Embedding layer\n",
    "* Keeping trainable = False, so as to keep the embeddings fixed"
   ]
  },
  {
   "cell_type": "code",
   "execution_count": 100,
   "metadata": {
    "id": "7-7JB_FZkaZu"
   },
   "outputs": [],
   "source": [
    "from tensorflow.keras.layers import Embedding\n",
    "\n",
    "embedding_layer = Embedding(\n",
    "    num_tokens,\n",
    "    embedding_dim,\n",
    "    embeddings_initializer = keras.initializers.Constant(embedding_matrix),\n",
    "    trainable = False,\n",
    ")"
   ]
  },
  {
   "cell_type": "code",
   "execution_count": 101,
   "metadata": {
    "id": "P3JvLAiGkaXD"
   },
   "outputs": [],
   "source": [
    "## Build the Model"
   ]
  },
  {
   "cell_type": "code",
   "execution_count": null,
   "metadata": {
    "id": "CuXnbQYmkaUQ"
   },
   "outputs": [],
   "source": [
    "print(\"Build model...\")\n",
    "num_layers = 1  # Try to add more LSTM layers!\n",
    "\n",
    "\n",
    "model = keras.Sequential()\n",
    "\n",
    "# \"Encode\" the input sequence using a LSTM, producing an output of size 128.\n",
    "# Note: In a situation where your input sequences have a variable length,\n",
    "# use input_shape=(None, num_feature).\n",
    "\n",
    "model.add(layers.LSTM(128, input_shape=(MAXLEN, len(chars))))\n",
    "# As the decoder RNN's input, repeatedly provide with the last output of\n",
    "# RNN for each time step. Repeat 'DIGITS + 1' times as that's the maximum\n",
    "# length of output, e.g., when DIGITS=3, max output is 999+999=1998.\n",
    "model.add(layers.RepeatVector(DIGITS + 1))\n",
    "# The decoder RNN could be multiple layers stacked or a single layer.\n",
    "for _ in range(num_layers):\n",
    "    # By setting return_sequences to True, return not only the last output but\n",
    "    # all the outputs so far in the form of (num_samples, timesteps,\n",
    "    # output_dim). This is necessary as TimeDistributed in the below expects\n",
    "    # the first dimension to be the timesteps.\n",
    "    model.add(layers.LSTM(128, return_sequences=True))\n",
    "\n",
    "# Apply a dense layer to the every temporal slice of an input. For each of step\n",
    "# of the output sequence, decide which character should be chosen.\n",
    "model.add(layers.Dense(len(chars), activation=\"softmax\"))\n",
    "model.compile(loss=\"categorical_crossentropy\", optimizer=\"adam\", metrics=[\"accuracy\"])\n",
    "model.summary()"
   ]
  },
  {
   "cell_type": "code",
   "execution_count": null,
   "metadata": {
    "id": "JENY9nNLkY2v"
   },
   "outputs": [],
   "source": []
  }
 ],
 "metadata": {
  "accelerator": "GPU",
  "colab": {
   "provenance": []
  },
  "kernelspec": {
   "display_name": "Python 3 (ipykernel)",
   "language": "python",
   "name": "python3"
  },
  "language_info": {
   "codemirror_mode": {
    "name": "ipython",
    "version": 3
   },
   "file_extension": ".py",
   "mimetype": "text/x-python",
   "name": "python",
   "nbconvert_exporter": "python",
   "pygments_lexer": "ipython3",
   "version": "3.9.12"
  }
 },
 "nbformat": 4,
 "nbformat_minor": 1
}
